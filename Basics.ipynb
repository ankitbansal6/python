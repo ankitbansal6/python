{
 "cells": [
  {
   "cell_type": "code",
   "execution_count": 2,
   "metadata": {
    "collapsed": false
   },
   "outputs": [
    {
     "name": "stdout",
     "output_type": "stream",
     "text": [
      "['', 'year', 'month', 'intent', 'police', 'sex', 'age', 'race', 'hispanic', 'place', 'education']\n",
      "['1', '2012', '01', 'Suicide', '0', 'M', '34', 'Asian/Pacific Islander', '100', 'Home', '4']\n",
      "['2', '2012', '01', 'Suicide', '0', 'F', '21', 'White', '100', 'Street', '3']\n",
      "['3', '2012', '01', 'Suicide', '0', 'M', '60', 'White', '100', 'Other specified', '4']\n",
      "['4', '2012', '02', 'Suicide', '0', 'M', '64', 'White', '100', 'Home', '4']\n"
     ]
    }
   ],
   "source": [
    "import csv\n",
    "f=open(\"guns.csv\",\"r\")\n",
    "csvreader=csv.reader(f)\n",
    "data=list(csvreader)\n",
    "for i in range(5):\n",
    "    print(data[i])\n"
   ]
  },
  {
   "cell_type": "code",
   "execution_count": 4,
   "metadata": {
    "collapsed": false
   },
   "outputs": [
    {
     "name": "stdout",
     "output_type": "stream",
     "text": [
      "['1', '2012', '01', 'Suicide', '0', 'M', '34', 'Asian/Pacific Islander', '100', 'Home', '4']\n",
      "['2', '2012', '01', 'Suicide', '0', 'F', '21', 'White', '100', 'Street', '3']\n",
      "['3', '2012', '01', 'Suicide', '0', 'M', '60', 'White', '100', 'Other specified', '4']\n",
      "['4', '2012', '02', 'Suicide', '0', 'M', '64', 'White', '100', 'Home', '4']\n",
      "['5', '2012', '02', 'Suicide', '0', 'M', '31', 'White', '100', 'Other specified', '2']\n"
     ]
    }
   ],
   "source": [
    "headers=data[0]\n",
    "data=data[1:]\n",
    "for i in range(5):\n",
    "    print(data[i])\n"
   ]
  },
  {
   "cell_type": "code",
   "execution_count": 8,
   "metadata": {
    "collapsed": false
   },
   "outputs": [
    {
     "name": "stdout",
     "output_type": "stream",
     "text": [
      "{datetime.datetime(2014, 5, 1, 0, 0): 2864, datetime.datetime(2012, 3, 1, 0, 0): 2743, datetime.datetime(2013, 2, 1, 0, 0): 2375, datetime.datetime(2013, 4, 1, 0, 0): 2798, datetime.datetime(2013, 6, 1, 0, 0): 2920, datetime.datetime(2012, 9, 1, 0, 0): 2852, datetime.datetime(2013, 5, 1, 0, 0): 2806, datetime.datetime(2013, 10, 1, 0, 0): 2808, datetime.datetime(2014, 6, 1, 0, 0): 2931, datetime.datetime(2012, 4, 1, 0, 0): 2795, datetime.datetime(2012, 1, 1, 0, 0): 2758, datetime.datetime(2014, 2, 1, 0, 0): 2361, datetime.datetime(2012, 11, 1, 0, 0): 2729, datetime.datetime(2013, 12, 1, 0, 0): 2765, datetime.datetime(2012, 5, 1, 0, 0): 2999, datetime.datetime(2012, 10, 1, 0, 0): 2733, datetime.datetime(2014, 4, 1, 0, 0): 2862, datetime.datetime(2013, 9, 1, 0, 0): 2742, datetime.datetime(2013, 11, 1, 0, 0): 2758, datetime.datetime(2014, 9, 1, 0, 0): 2914, datetime.datetime(2013, 7, 1, 0, 0): 3079, datetime.datetime(2014, 7, 1, 0, 0): 2884, datetime.datetime(2014, 11, 1, 0, 0): 2756, datetime.datetime(2014, 10, 1, 0, 0): 2865, datetime.datetime(2012, 6, 1, 0, 0): 2826, datetime.datetime(2012, 2, 1, 0, 0): 2357, datetime.datetime(2013, 8, 1, 0, 0): 2859, datetime.datetime(2012, 7, 1, 0, 0): 3026, datetime.datetime(2013, 1, 1, 0, 0): 2864, datetime.datetime(2014, 12, 1, 0, 0): 2857, datetime.datetime(2014, 1, 1, 0, 0): 2651, datetime.datetime(2012, 12, 1, 0, 0): 2791, datetime.datetime(2012, 8, 1, 0, 0): 2954, datetime.datetime(2014, 8, 1, 0, 0): 2970, datetime.datetime(2013, 3, 1, 0, 0): 2862, datetime.datetime(2014, 3, 1, 0, 0): 2684}\n"
     ]
    }
   ],
   "source": [
    "import datetime\n",
    "date_counts={}\n",
    "for row in data:\n",
    "    years=int(row[1])\n",
    "    months=int(row[2])\n",
    "    date=datetime.datetime(year=years,month=months,day=1)\n",
    "    if date in date_counts:\n",
    "        date_counts[date]=date_counts[date]+1\n",
    "    else:\n",
    "        date_counts[date]=1\n",
    "print(date_counts)"
   ]
  },
  {
   "cell_type": "code",
   "execution_count": 9,
   "metadata": {
    "collapsed": false
   },
   "outputs": [
    {
     "name": "stdout",
     "output_type": "stream",
     "text": [
      "{'Black': 23296, 'White': 66237, 'Hispanic': 9022, 'Asian/Pacific Islander': 1326, 'Native American/Native Alaskan': 917}\n",
      "{'M': 86349, 'F': 14449}\n"
     ]
    }
   ],
   "source": [
    "race_counts={}\n",
    "sex_counts={}\n",
    "for row in data:\n",
    "    race=row[7]\n",
    "    if race in race_counts:\n",
    "        race_counts[race]=race_counts[race]+1\n",
    "    else:\n",
    "        race_counts[race]=1\n",
    "print(race_counts)\n",
    "for row in data:\n",
    "    sex=row[5]\n",
    "    if sex in sex_counts:\n",
    "        sex_counts[sex]=sex_counts[sex]+1\n",
    "    else:\n",
    "        sex_counts[sex]=1\n",
    "print(sex_counts)"
   ]
  },
  {
   "cell_type": "code",
   "execution_count": 10,
   "metadata": {
    "collapsed": false
   },
   "outputs": [
    {
     "name": "stdout",
     "output_type": "stream",
     "text": [
      "[['Id', 'Year', 'Id', 'Sex', 'Id', 'Hispanic Origin', 'Id', 'Id2', 'Geography', 'Total', 'Race Alone - White', 'Race Alone - Hispanic', 'Race Alone - Black or African American', 'Race Alone - American Indian and Alaska Native', 'Race Alone - Asian', 'Race Alone - Native Hawaiian and Other Pacific Islander', 'Two or More Races'], ['cen42010', 'April 1, 2010 Census', 'totsex', 'Both Sexes', 'tothisp', 'Total', '0100000US', '', 'United States', '308745538', '197318956', '44618105', '40250635', '3739506', '15159516', '674625', '6984195']]\n"
     ]
    }
   ],
   "source": [
    "import csv\n",
    "f=open(\"census.csv\",\"r\")\n",
    "csvreader=csv.reader(f)\n",
    "census=list(csvreader)\n",
    "print(census)"
   ]
  },
  {
   "cell_type": "code",
   "execution_count": 11,
   "metadata": {
    "collapsed": true
   },
   "outputs": [],
   "source": [
    "dic={'Asian/Pacific Islander':15834141,'Black':40250635,'Native American/Native Alaskan':3739506,'Hispanic':44618105,'White':197318956}"
   ]
  },
  {
   "cell_type": "code",
   "execution_count": 12,
   "metadata": {
    "collapsed": false
   },
   "outputs": [
    {
     "name": "stdout",
     "output_type": "stream",
     "text": [
      "{'Native American/Native Alaskan': 3739506, 'Hispanic': 44618105, 'Asian/Pacific Islander': 15834141, 'Black': 40250635, 'White': 197318956}\n"
     ]
    }
   ],
   "source": [
    "print(dic)"
   ]
  },
  {
   "cell_type": "code",
   "execution_count": 13,
   "metadata": {
    "collapsed": false
   },
   "outputs": [
    {
     "name": "stdout",
     "output_type": "stream",
     "text": [
      "{'Native American/Native Alaskan': 3739506, 'Hispanic': 44618105, 'Asian/Pacific Islander': 15834141, 'Black': 40250635, 'White': 197318956}\n"
     ]
    }
   ],
   "source": [
    "mapping=dic\n",
    "print(mapping)"
   ]
  },
  {
   "cell_type": "code",
   "execution_count": 14,
   "metadata": {
    "collapsed": false
   },
   "outputs": [
    {
     "name": "stdout",
     "output_type": "stream",
     "text": [
      "{'White': 33.56849303419181, 'Native American/Native Alaskan': 24.521955573811088, 'Hispanic': 20.220491210910907, 'Black': 57.8773477735196, 'Asian/Pacific Islander': 8.374309664161762}\n"
     ]
    }
   ],
   "source": [
    "race_per_hundredk={}\n",
    "for k,v in race_counts.items():\n",
    "    race_per_hundredk[k]=(v/mapping[k])*100000\n",
    "print(race_per_hundredk)"
   ]
  },
  {
   "cell_type": "code",
   "execution_count": 15,
   "metadata": {
    "collapsed": true
   },
   "outputs": [],
   "source": [
    "# Answer"
   ]
  },
  {
   "cell_type": "code",
   "execution_count": 16,
   "metadata": {
    "collapsed": false
   },
   "outputs": [
    {
     "name": "stdout",
     "output_type": "stream",
     "text": [
      "{'White': 4.6356417981453335, 'Native American/Native Alaskan': 8.717729026240365, 'Hispanic': 12.627161104219914, 'Black': 48.471284987180944, 'Asian/Pacific Islander': 3.530346230970155}\n"
     ]
    }
   ],
   "source": [
    "intents=[data1[3] for data1 in data]\n",
    "races=[data1[7] for data1 in data]\n",
    "homicide_race_counts={}\n",
    "for i,race in enumerate(races):\n",
    "    if intents[i]==\"Homicide\":\n",
    "        if race in homicide_race_counts:\n",
    "            homicide_race_counts[race]=homicide_race_counts[race]+1\n",
    "        else:\n",
    "            homicide_race_counts[race]=1\n",
    "for k,v in homicide_race_counts.items():\n",
    "    race_per_hundredk[k]=(v/mapping[k])*100000\n",
    "print(race_per_hundredk)"
   ]
  },
  {
   "cell_type": "code",
   "execution_count": null,
   "metadata": {
    "collapsed": true
   },
   "outputs": [],
   "source": []
  }
 ],
 "metadata": {
  "kernelspec": {
   "display_name": "Python 3",
   "language": "python",
   "name": "python3"
  },
  "language_info": {
   "codemirror_mode": {
    "name": "ipython",
    "version": 3
   },
   "file_extension": ".py",
   "mimetype": "text/x-python",
   "name": "python",
   "nbconvert_exporter": "python",
   "pygments_lexer": "ipython3",
   "version": "3.4.3"
  }
 },
 "nbformat": 4,
 "nbformat_minor": 0
}
